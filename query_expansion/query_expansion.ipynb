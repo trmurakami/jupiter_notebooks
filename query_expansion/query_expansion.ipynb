{
 "cells": [
  {
   "cell_type": "code",
   "execution_count": null,
   "metadata": {},
   "outputs": [],
   "source": [
    "pip install googletrans==4.0.0-rc1"
   ]
  },
  {
   "cell_type": "code",
   "execution_count": null,
   "metadata": {},
   "outputs": [],
   "source": [
    "from googletrans import Translator\n",
    "\n",
    "def create_search_string(term):\n",
    "    translator = Translator()\n",
    "    \n",
    "    # Traduz o termo para diferentes idiomas\n",
    "    languages = ['en', 'es', 'fr', 'de', 'it', 'ja', 'zh-CN']\n",
    "    translated_terms = [translator.translate(term, src='pt', dest=lang).text for lang in languages]\n",
    "    \n",
    "    # Cria a string de busca para a base Scopus\n",
    "    search_strings = []\n",
    "    for lang, translated_term in zip(languages, translated_terms):\n",
    "        search_string = f'TITLE-ABS-KEY(\"{translated_term}\") AND (LANGUAGE({lang}))'\n",
    "        search_strings.append(search_string)\n",
    "    \n",
    "    return search_strings\n",
    "\n",
    "term = input(\"Digite o termo em português: \")\n",
    "search_strings = create_search_string(term)\n",
    "\n",
    "print(\"Strings de busca para a base Scopus:\")\n",
    "for idx, search_string in enumerate(search_strings, start=1):\n",
    "    print(f\"{idx}. {search_string}\")\n"
   ]
  }
 ],
 "metadata": {
  "kernelspec": {
   "display_name": "Python 3",
   "language": "python",
   "name": "python3"
  },
  "language_info": {
   "codemirror_mode": {
    "name": "ipython",
    "version": 3
   },
   "file_extension": ".py",
   "mimetype": "text/x-python",
   "name": "python",
   "nbconvert_exporter": "python",
   "pygments_lexer": "ipython3",
   "version": "3.11.4"
  },
  "orig_nbformat": 4
 },
 "nbformat": 4,
 "nbformat_minor": 2
}
